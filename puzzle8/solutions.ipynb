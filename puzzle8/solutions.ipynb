{
 "cells": [
  {
   "cell_type": "code",
   "execution_count": 2,
   "metadata": {},
   "outputs": [],
   "source": [
    "AntennaPositions = {}\n",
    "rowNum = 0\n",
    "with open(\"inputs.txt\", \"r\") as f:\n",
    "    for l in f:\n",
    "        line  = l.strip()\n",
    "        numChars = len(line)\n",
    "        for i in range(numChars):\n",
    "            if line[i] != \".\":\n",
    "                charac = line[i]\n",
    "                if charac not in AntennaPositions:\n",
    "                    AntennaPositions[charac] = [(rowNum, i)]\n",
    "                else:\n",
    "                    AntennaPositions[charac].append((rowNum, i))       \n",
    "        rowNum += 1\n",
    "\n",
    "maxRow = rowNum\n",
    "maxCol = numChars\n",
    "        "
   ]
  },
  {
   "cell_type": "markdown",
   "metadata": {},
   "source": [
    "#### function part 1"
   ]
  },
  {
   "cell_type": "code",
   "execution_count": 12,
   "metadata": {},
   "outputs": [],
   "source": [
    "from itertools import permutations, combinations"
   ]
  },
  {
   "cell_type": "code",
   "execution_count": null,
   "metadata": {},
   "outputs": [
    {
     "name": "stdout",
     "output_type": "stream",
     "text": [
      "332\n"
     ]
    }
   ],
   "source": [
    "antennaCount = 0\n",
    "setNodes = set()\n",
    "for character in AntennaPositions:\n",
    "    antennaPos = AntennaPositions[character]\n",
    "    for pos1, pos2 in combinations(antennaPos, 2):\n",
    "        x1 , y1 = pos1\n",
    "        x2, y2 = pos2\n",
    "        diffX = x2 - x1\n",
    "        diffY = y2 - y1\n",
    "        newX = x2 + diffX\n",
    "        newY = y2 + diffY\n",
    "        \n",
    "        if newX >= 0  and newX < maxRow:\n",
    "            if newY >= 0 and newY < maxCol:\n",
    "                if (newX, newY) not in setNodes:\n",
    "                    setNodes.add((newX, newY))\n",
    "                    antennaCount += 1\n",
    "\n",
    "        newX2 = x1 - diffX\n",
    "        newY2 = y1 - diffY\n",
    "\n",
    "        if newX2 >= 0  and newX2 < maxRow:\n",
    "            if newY2 >= 0 and newY2 < maxCol:\n",
    "                if (newX2, newY2) not in setNodes:\n",
    "                    setNodes.add((newX2, newY2))\n",
    "                    antennaCount += 1\n",
    "\n",
    "print(antennaCount)"
   ]
  },
  {
   "cell_type": "markdown",
   "metadata": {},
   "source": [
    "#### function part 2"
   ]
  },
  {
   "cell_type": "code",
   "execution_count": 23,
   "metadata": {},
   "outputs": [
    {
     "name": "stdout",
     "output_type": "stream",
     "text": [
      "1174\n"
     ]
    }
   ],
   "source": [
    "antennaCount = 0\n",
    "setNodes = set()\n",
    "for character in AntennaPositions:\n",
    "    antennaPos = AntennaPositions[character]\n",
    "\n",
    "    if len(antennaPos)>2:\n",
    "        antennaNodes = True\n",
    "    else:\n",
    "        antennaNodes = False\n",
    "\n",
    "    for pos1, pos2 in combinations(antennaPos, 2):\n",
    "        x1 , y1 = pos1\n",
    "        x2, y2 = pos2\n",
    "        diffX = x2 - x1\n",
    "        diffY = y2 - y1\n",
    "        newX = x2 + diffX\n",
    "        newY = y2 + diffY\n",
    "        \n",
    "        if antennaNodes:\n",
    "            for i in range( 50):\n",
    "                newX = x2 + i*diffX\n",
    "                newY = y2 + i*diffY\n",
    "                if newX >= 0  and newX < maxRow:\n",
    "                    if newY >= 0 and newY < maxCol:\n",
    "                        if (newX, newY) not in setNodes:\n",
    "                            setNodes.add((newX, newY))\n",
    "\n",
    "            for i in range( 50):\n",
    "                newX2 = x1 - i*diffX\n",
    "                newY2 = y1 - i*diffY\n",
    "                if newX2 >= 0  and newX2 < maxRow:\n",
    "                    if newY2 >= 0 and newY2 < maxCol:\n",
    "                        if (newX2, newY2) not in setNodes:\n",
    "                            setNodes.add((newX2, newY2))\n",
    "        else:\n",
    "            for i in range(1, 50):\n",
    "                newX = x2 + i*diffX\n",
    "                newY = y2 + i*diffY\n",
    "                if newX >= 0  and newX < maxRow:\n",
    "                    if newY >= 0 and newY < maxCol:\n",
    "                        if (newX, newY) not in setNodes:\n",
    "                            setNodes.add((newX, newY))\n",
    "\n",
    "            for i in range(1, 50):\n",
    "                newX2 = x1 - i*diffX\n",
    "                newY2 = y1 - i*diffY\n",
    "                if newX2 >= 0  and newX2 < maxRow:\n",
    "                    if newY2 >= 0 and newY2 < maxCol:\n",
    "                        if (newX2, newY2) not in setNodes:\n",
    "                            setNodes.add((newX2, newY2))\n",
    "\n",
    "\n",
    "print(len(setNodes))"
   ]
  }
 ],
 "metadata": {
  "kernelspec": {
   "display_name": "base",
   "language": "python",
   "name": "python3"
  },
  "language_info": {
   "codemirror_mode": {
    "name": "ipython",
    "version": 3
   },
   "file_extension": ".py",
   "mimetype": "text/x-python",
   "name": "python",
   "nbconvert_exporter": "python",
   "pygments_lexer": "ipython3",
   "version": "3.10.9"
  }
 },
 "nbformat": 4,
 "nbformat_minor": 2
}
