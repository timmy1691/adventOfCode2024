{
 "cells": [
  {
   "cell_type": "code",
   "execution_count": 5,
   "metadata": {},
   "outputs": [],
   "source": [
    "from collections import deque\n",
    "import re"
   ]
  },
  {
   "cell_type": "code",
   "execution_count": 44,
   "metadata": {},
   "outputs": [],
   "source": [
    "validMatches = {\n",
    "    (\"X\", \"M\", \"A\", \"S\") : 1,\n",
    "    (\"S\", \"A\", \"M\", \"X\") : 1\n",
    "}"
   ]
  },
  {
   "cell_type": "code",
   "execution_count": 85,
   "metadata": {},
   "outputs": [],
   "source": [
    "def verticalDiagonalCount(que, validMatches):\n",
    "\n",
    "    l = len(que[0])\n",
    "    row1 = que[0]\n",
    "    row2 = que[1]\n",
    "    row3 = que[2]\n",
    "    row4 = que[3]\n",
    "\n",
    "    tempCount = 0\n",
    "    for i in range(l):\n",
    "        # vertical\n",
    "        if (row1[i] == \"X\" and row4[i] == \"S\") or (row1[i] == \"S\" and row4[i] == \"X\"):\n",
    "            if (row1[i], row2[i], row3[i], row4[i]) in validMatches:\n",
    "                tempCount += 1\n",
    "        # if diagonal\n",
    "        if i <= l-4:\n",
    "            if (row1[i] == \"X\" and row4[i+3] == \"S\") or (row1[i+3] == \"X\" and row4[i] == \"S\") or (row1[i] == \"S\" and row4[i+3] == \"X\") or (row1[i+3] == \"S\" and row4[i] == \"X\") :\n",
    "                if ((row1[i], row2[i+1], row3[i+2], row4[i+3]) in validMatches) :\n",
    "                    tempCount += 1\n",
    "                if ((row1[i+3], row2[i+2], row3[i+1], row4[i]) in validMatches):\n",
    "                    tempCount += 1\n",
    "\n",
    "    return tempCount"
   ]
  },
  {
   "cell_type": "code",
   "execution_count": 87,
   "metadata": {},
   "outputs": [
    {
     "name": "stdout",
     "output_type": "stream",
     "text": [
      "2462\n"
     ]
    }
   ],
   "source": [
    "total = 0\n",
    "tempStack = deque([])\n",
    "with open(\"inputs.txt\", \"r\") as f:\n",
    "    for line in f:\n",
    "        l = line.strip()\n",
    "        if len(tempStack) < 4:\n",
    "            tempStack.append(l)\n",
    "        else:\n",
    "            total += verticalDiagonalCount(tempStack,validMatches)\n",
    "            tempStack.append(l)\n",
    "            tempStack.popleft()\n",
    "        \n",
    "        total += len(re.findall(\"XMAS\", l))\n",
    "        total += len(re.findall(\"SAMX\", l))\n",
    "        # print(total)\n",
    "    total+= verticalDiagonalCount(tempStack, validMatches)\n",
    "\n",
    "print(total)"
   ]
  },
  {
   "cell_type": "markdown",
   "metadata": {},
   "source": [
    "# Part 2"
   ]
  },
  {
   "cell_type": "code",
   "execution_count": null,
   "metadata": {},
   "outputs": [],
   "source": [
    "validMatches2 = {\n",
    "    (\"M\", \"A\", \"S\") : 1,\n",
    "    (\"S\", \"A\", \"M\") : 1\n",
    "}"
   ]
  },
  {
   "cell_type": "code",
   "execution_count": 99,
   "metadata": {},
   "outputs": [],
   "source": [
    "def crossMAS(tempStack, validMatches2):\n",
    "\n",
    "    que1 = tempStack[0]\n",
    "    que2 = tempStack[1]\n",
    "    que3 = tempStack[2]\n",
    "\n",
    "    l = len(que2)\n",
    "    totalCount = 0\n",
    "\n",
    "    for i in range(1, l):\n",
    "        if i <= l-2:\n",
    "            if que2[i] == \"A\":\n",
    "                if ((que1[i-1], que2[i], que3[i+1]) in validMatches2) and ((que1[i+1], que2[i], que3[i-1]) in validMatches2):\n",
    "                    totalCount += 1\n",
    "\n",
    "    return totalCount"
   ]
  },
  {
   "cell_type": "code",
   "execution_count": 104,
   "metadata": {},
   "outputs": [
    {
     "name": "stdout",
     "output_type": "stream",
     "text": [
      "1877\n"
     ]
    }
   ],
   "source": [
    "tempStack = deque([])\n",
    "\n",
    "total = 0\n",
    "tempStack = deque([])\n",
    "with open(\"inputs.txt\", \"r\") as f:\n",
    "    for line in f:\n",
    "        l = line.strip()\n",
    "        if len(tempStack) < 3:\n",
    "            tempStack.append(l)\n",
    "        else:\n",
    "            total += crossMAS(tempStack, validMatches2)\n",
    "            tempStack.append(l)\n",
    "            tempStack.popleft()\n",
    "        \n",
    "    total+= crossMAS(tempStack, validMatches2)\n",
    "\n",
    "\n",
    "print(total)"
   ]
  }
 ],
 "metadata": {
  "kernelspec": {
   "display_name": "base",
   "language": "python",
   "name": "python3"
  },
  "language_info": {
   "codemirror_mode": {
    "name": "ipython",
    "version": 3
   },
   "file_extension": ".py",
   "mimetype": "text/x-python",
   "name": "python",
   "nbconvert_exporter": "python",
   "pygments_lexer": "ipython3",
   "version": "3.10.9"
  }
 },
 "nbformat": 4,
 "nbformat_minor": 2
}
