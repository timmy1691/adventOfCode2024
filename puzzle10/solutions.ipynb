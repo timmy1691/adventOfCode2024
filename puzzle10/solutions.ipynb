{
 "cells": [
  {
   "cell_type": "code",
   "execution_count": 11,
   "metadata": {},
   "outputs": [],
   "source": [
    "import numpy as np"
   ]
  },
  {
   "cell_type": "code",
   "execution_count": 59,
   "metadata": {},
   "outputs": [],
   "source": [
    "Map = []\n",
    "with open(\"inputs.txt\", \"r\") as f:\n",
    "    for l in f:\n",
    "        tempNums =[]\n",
    "        vals = l.strip()\n",
    "        for v in vals:\n",
    "            tempNums.append(int(v))\n",
    "\n",
    "        Map.append(tempNums)\n",
    "mapArray = np.array(Map)"
   ]
  },
  {
   "cell_type": "code",
   "execution_count": 60,
   "metadata": {},
   "outputs": [],
   "source": [
    "startIndices = []\n",
    "n,m = mapArray.shape\n",
    "\n",
    "for i in range(n):\n",
    "    for j in range(m):\n",
    "        if mapArray[i][j] == 0:\n",
    "            startIndices.append((i,j))"
   ]
  },
  {
   "cell_type": "code",
   "execution_count": 61,
   "metadata": {},
   "outputs": [],
   "source": [
    "from collections import deque"
   ]
  },
  {
   "cell_type": "markdown",
   "metadata": {},
   "source": [
    "#### Function 1 BFS"
   ]
  },
  {
   "cell_type": "code",
   "execution_count": null,
   "metadata": {},
   "outputs": [
    {
     "name": "stdout",
     "output_type": "stream",
     "text": [
      "510\n"
     ]
    }
   ],
   "source": [
    "totalPeaks = 0\n",
    "for startIndex in startIndices:\n",
    "    newSet = set()\n",
    "    newSet.add(startIndex)\n",
    "    routeMap = {0 : newSet}\n",
    "    for i in range(9):\n",
    "        newSet = set()\n",
    "        currentIndices = routeMap[i]\n",
    "        for indices in currentIndices:\n",
    "            xIndex = indices[0]\n",
    "            yIndex = indices[1]\n",
    "            if yIndex == 0 :\n",
    "                if mapArray[xIndex][yIndex+1] == i+1:\n",
    "                    newSet.add((xIndex, yIndex+1))\n",
    "            elif yIndex == n-1:\n",
    "                if mapArray[xIndex][yIndex-1] == i+1:\n",
    "                    newSet.add((xIndex, yIndex-1))\n",
    "            \n",
    "            else:\n",
    "                if mapArray[xIndex][yIndex+1] == i+1:\n",
    "                    newSet.add((xIndex, yIndex+1))\n",
    "                if mapArray[xIndex][yIndex-1] == i+1:\n",
    "                    newSet.add((xIndex, yIndex-1))\n",
    "\n",
    "            if xIndex == 0:\n",
    "                if mapArray[xIndex+1][yIndex] == i+1:\n",
    "                    newSet.add((xIndex+1, yIndex))\n",
    "            elif xIndex == m-1:\n",
    "                if mapArray[xIndex-1][yIndex] == i+1:\n",
    "                    newSet.add((xIndex-1, yIndex))\n",
    "            else:\n",
    "                if mapArray[xIndex+1][yIndex] == i+1:\n",
    "                    newSet.add((xIndex+1, yIndex))\n",
    "                if mapArray[xIndex-1][yIndex] == i+1:\n",
    "                    newSet.add((xIndex-1, yIndex))\n",
    "        routeMap[i+1] = newSet\n",
    "\n",
    "\n",
    "print(totalPeaks)"
   ]
  },
  {
   "cell_type": "markdown",
   "metadata": {},
   "source": [
    "#### Function 2 DFS"
   ]
  },
  {
   "cell_type": "code",
   "execution_count": null,
   "metadata": {},
   "outputs": [
    {
     "name": "stdout",
     "output_type": "stream",
     "text": [
      "9\n",
      "8\n",
      "7\n",
      "6\n",
      "5\n",
      "4\n",
      "3\n",
      "2\n",
      "1\n",
      "0\n"
     ]
    }
   ],
   "source": [
    "numCollections = {}\n",
    "ends = {}\n",
    "starts = {}\n",
    "for i in range(9, -1,-1):\n",
    "    locations = routeMap[i]\n",
    "    \n",
    "        "
   ]
  },
  {
   "cell_type": "code",
   "execution_count": null,
   "metadata": {},
   "outputs": [
    {
     "data": {
      "text/plain": [
       "510"
      ]
     },
     "execution_count": 63,
     "metadata": {},
     "output_type": "execute_result"
    }
   ],
   "source": [
    "for startIndex in startIndices:\n",
    "    newSet = set()\n",
    "    newSet.add(startIndex)\n",
    "    routeMap = {0 : newSet}\n",
    "    for i in range(9):\n",
    "        newSet = set()\n",
    "        currentIndices = routeMap[i]\n",
    "        for indices in currentIndices:\n",
    "            xIndex = indices[0]\n",
    "            yIndex = indices[1]\n",
    "            if yIndex == 0 :\n",
    "                if mapArray[xIndex][yIndex+1] == i+1:\n",
    "                    newSet.add((xIndex, yIndex+1))\n",
    "            elif yIndex == n-1:\n",
    "                if mapArray[xIndex][yIndex-1] == i+1:\n",
    "                    newSet.add((xIndex, yIndex-1))\n",
    "            \n",
    "            else:\n",
    "                if mapArray[xIndex][yIndex+1] == i+1:\n",
    "                    newSet.add((xIndex, yIndex+1))\n",
    "                if mapArray[xIndex][yIndex-1] == i+1:\n",
    "                    newSet.add((xIndex, yIndex-1))\n",
    "\n",
    "            if xIndex == 0:\n",
    "                if mapArray[xIndex+1][yIndex] == i+1:\n",
    "                    newSet.add((xIndex+1, yIndex))\n",
    "            elif xIndex == m-1:\n",
    "                if mapArray[xIndex-1][yIndex] == i+1:\n",
    "                    newSet.add((xIndex-1, yIndex))\n",
    "            else:\n",
    "                if mapArray[xIndex+1][yIndex] == i+1:\n",
    "                    newSet.add((xIndex+1, yIndex))\n",
    "                if mapArray[xIndex-1][yIndex] == i+1:\n",
    "                    newSet.add((xIndex-1, yIndex))\n",
    "        routeMap[i+1] = newSet\n",
    "\n",
    "\n",
    "print(totalPeaks)"
   ]
  },
  {
   "cell_type": "code",
   "execution_count": null,
   "metadata": {},
   "outputs": [],
   "source": []
  }
 ],
 "metadata": {
  "kernelspec": {
   "display_name": "base",
   "language": "python",
   "name": "python3"
  },
  "language_info": {
   "codemirror_mode": {
    "name": "ipython",
    "version": 3
   },
   "file_extension": ".py",
   "mimetype": "text/x-python",
   "name": "python",
   "nbconvert_exporter": "python",
   "pygments_lexer": "ipython3",
   "version": "3.10.9"
  }
 },
 "nbformat": 4,
 "nbformat_minor": 2
}
