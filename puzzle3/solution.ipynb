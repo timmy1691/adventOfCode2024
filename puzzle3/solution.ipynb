{
 "cells": [
  {
   "cell_type": "code",
   "execution_count": 3,
   "metadata": {},
   "outputs": [],
   "source": [
    "import numpy as np\n",
    "import re"
   ]
  },
  {
   "cell_type": "code",
   "execution_count": 4,
   "metadata": {},
   "outputs": [],
   "source": [
    "regexExpression = \"mul\\(\\d{1,3},\\d{1,3}\\)\""
   ]
  },
  {
   "cell_type": "code",
   "execution_count": 5,
   "metadata": {},
   "outputs": [
    {
     "name": "stdout",
     "output_type": "stream",
     "text": [
      "['mul(12,12)']\n"
     ]
    }
   ],
   "source": [
    "x = re.findall(regexExpression, \"mul(12,12)\")\n",
    "print(x)"
   ]
  },
  {
   "cell_type": "code",
   "execution_count": 9,
   "metadata": {},
   "outputs": [],
   "source": [
    "def multiplication(strExp):\n",
    "    x = re.findall(\"\\d{1,3}\",strExp)\n",
    "    return int(x[0])*int(x[1])"
   ]
  },
  {
   "cell_type": "code",
   "execution_count": 10,
   "metadata": {},
   "outputs": [
    {
     "name": "stdout",
     "output_type": "stream",
     "text": [
      "184511516\n"
     ]
    }
   ],
   "source": [
    "# part 1\n",
    "Total = 0\n",
    "with open(\"inputs.txt\", \"r\") as f:\n",
    "    for line in f:\n",
    "        x = re.findall(regexExpression, line)\n",
    "        for thing in x:\n",
    "            Total += multiplication(thing)\n",
    "\n",
    "print(Total)"
   ]
  },
  {
   "cell_type": "markdown",
   "metadata": {},
   "source": [
    "## Part 2\n",
    "\n",
    "Dumdum Vanilla solution"
   ]
  },
  {
   "cell_type": "code",
   "execution_count": null,
   "metadata": {},
   "outputs": [],
   "source": [
    "do = \"do()\"\n",
    "dont = \"don't()\"\n",
    "lenDo = len(do)\n",
    "lenDont = len(dont)\n",
    "test = \"mul(111,111)\"\n",
    "testMin = \"mul(1,1)\"\n",
    "maxLen = len(test)\n",
    "minLen = len(testMin)"
   ]
  },
  {
   "cell_type": "code",
   "execution_count": 39,
   "metadata": {},
   "outputs": [
    {
     "name": "stdout",
     "output_type": "stream",
     "text": [
      "90044227\n"
     ]
    }
   ],
   "source": [
    "total = 0\n",
    "doCalc = True\n",
    "with open(\"inputs.txt\", \"r\") as f:\n",
    "    for line in f:\n",
    "        tempLine = line.strip()\n",
    "        n = len(tempLine)\n",
    "        for i, char in enumerate(tempLine):\n",
    "            if doCalc:\n",
    "                if char =='m':\n",
    "                    for j in range(maxLen, minLen, -1):\n",
    "                        try:\n",
    "                            if re.search(regexExpression, tempLine[i:i + j]) is not None:\n",
    "                                result = re.search(regexExpression, tempLine[i: i+j])[0]\n",
    "                                total += multiplication(result)\n",
    "                                break\n",
    "                        except IndexError:\n",
    "                            continue\n",
    "                if char == 'd':\n",
    "                    if tempLine[i: i + lenDont] == dont:\n",
    "                        doCalc = False\n",
    "                    else: \n",
    "                        continue\n",
    "            else:\n",
    "                if char == 'd':\n",
    "                    if line[i: i+lenDo] == do:\n",
    "                        doCalc=True\n",
    "\n",
    "print(total)\n"
   ]
  }
 ],
 "metadata": {
  "kernelspec": {
   "display_name": "base",
   "language": "python",
   "name": "python3"
  },
  "language_info": {
   "codemirror_mode": {
    "name": "ipython",
    "version": 3
   },
   "file_extension": ".py",
   "mimetype": "text/x-python",
   "name": "python",
   "nbconvert_exporter": "python",
   "pygments_lexer": "ipython3",
   "version": "3.10.9"
  }
 },
 "nbformat": 4,
 "nbformat_minor": 2
}
