{
 "cells": [
  {
   "cell_type": "code",
   "execution_count": 69,
   "metadata": {},
   "outputs": [],
   "source": [
    "import numpy as np\n",
    "import re"
   ]
  },
  {
   "cell_type": "code",
   "execution_count": 70,
   "metadata": {},
   "outputs": [],
   "source": [
    "regexExpression = \"mul\\(\\d{1,3},\\d{1,3}\\)\""
   ]
  },
  {
   "cell_type": "code",
   "execution_count": 71,
   "metadata": {},
   "outputs": [
    {
     "name": "stdout",
     "output_type": "stream",
     "text": [
      "['mul(12,12)']\n"
     ]
    }
   ],
   "source": [
    "x = re.findall(regexExpression, \"mul(12,12)\")\n",
    "print(x)"
   ]
  },
  {
   "cell_type": "code",
   "execution_count": 75,
   "metadata": {},
   "outputs": [
    {
     "name": "stdout",
     "output_type": "stream",
     "text": [
      "184511516\n"
     ]
    }
   ],
   "source": [
    "# part 1\n",
    "Total = 0\n",
    "with open(\"inputs.txt\", \"r\") as f:\n",
    "    for line in f:\n",
    "        x = re.findall(regexExpression, line)\n",
    "        for thing in x:\n",
    "            Total += multiplication(thing)\n",
    "\n",
    "print(Total)"
   ]
  },
  {
   "cell_type": "code",
   "execution_count": 64,
   "metadata": {},
   "outputs": [],
   "source": [
    "def multiplication(strExp):\n",
    "    x = re.findall(\"\\d{1,3}\",strExp)\n",
    "    return int(x[0])*int(x[1])"
   ]
  },
  {
   "cell_type": "code",
   "execution_count": 105,
   "metadata": {},
   "outputs": [],
   "source": [
    "doRegex = \"do\\(\\)\"\n",
    "dontRegex = \"don't\\(\\)\"\n",
    "with open(\"inputs.txt\", \"r\") as f:\n",
    "    for line in f:\n",
    "        dos = []\n",
    "        for thing in re.finditer(doRegex, line):\n",
    "            dos.append(thing.span())\n",
    "        donts = []\n",
    "        for thing in re.finditer(doRegex, line):\n",
    "            donts.append(thing.span())\n",
    "        mulIndex = []\n",
    "        muls = []\n",
    "        for thing in re.finditer(regexExpression, line):\n",
    "            mulIndex.append(thing.span())\n",
    "            muls.append(thing[0])\n",
    "        break"
   ]
  },
  {
   "cell_type": "code",
   "execution_count": null,
   "metadata": {},
   "outputs": [
    {
     "data": {
      "text/plain": [
       "[(8, 20),\n",
       " (25, 36),\n",
       " (47, 58),\n",
       " (81, 93),\n",
       " (105, 117),\n",
       " (117, 128),\n",
       " (162, 174),\n",
       " (191, 203),\n",
       " (204, 216),\n",
       " (223, 235),\n",
       " (246, 257),\n",
       " (286, 298),\n",
       " (298, 310),\n",
       " (317, 329),\n",
       " (332, 344),\n",
       " (371, 383),\n",
       " (401, 413),\n",
       " (413, 424),\n",
       " (431, 443),\n",
       " (466, 478),\n",
       " (495, 507),\n",
       " (517, 529),\n",
       " (548, 560),\n",
       " (601, 612),\n",
       " (626, 637),\n",
       " (645, 657),\n",
       " (674, 686),\n",
       " (687, 699),\n",
       " (711, 723),\n",
       " (723, 735),\n",
       " (736, 747),\n",
       " (748, 760),\n",
       " (760, 772),\n",
       " (779, 791),\n",
       " (800, 812),\n",
       " (839, 851),\n",
       " (851, 863),\n",
       " (867, 879),\n",
       " (880, 891),\n",
       " (894, 906),\n",
       " (914, 923),\n",
       " (949, 961),\n",
       " (979, 991),\n",
       " (1003, 1015),\n",
       " (1018, 1029),\n",
       " (1055, 1067),\n",
       " (1067, 1079),\n",
       " (1113, 1125),\n",
       " (1138, 1150),\n",
       " (1158, 1170),\n",
       " (1191, 1202),\n",
       " (1213, 1225),\n",
       " (1226, 1238),\n",
       " (1245, 1257),\n",
       " (1273, 1285),\n",
       " (1295, 1307),\n",
       " (1330, 1342),\n",
       " (1370, 1382),\n",
       " (1396, 1408),\n",
       " (1418, 1429),\n",
       " (1459, 1471),\n",
       " (1471, 1483),\n",
       " (1484, 1496),\n",
       " (1502, 1514),\n",
       " (1541, 1553),\n",
       " (1569, 1581),\n",
       " (1605, 1617),\n",
       " (1625, 1637),\n",
       " (1654, 1666),\n",
       " (1691, 1703),\n",
       " (1718, 1730),\n",
       " (1734, 1745),\n",
       " (1746, 1758),\n",
       " (1772, 1784),\n",
       " (1810, 1822),\n",
       " (1824, 1836),\n",
       " (1854, 1866),\n",
       " (1916, 1928),\n",
       " (1935, 1947),\n",
       " (1967, 1979),\n",
       " (2012, 2024),\n",
       " (2073, 2085),\n",
       " (2085, 2097),\n",
       " (2149, 2161),\n",
       " (2166, 2178),\n",
       " (2201, 2213),\n",
       " (2224, 2236),\n",
       " (2243, 2255),\n",
       " (2260, 2272),\n",
       " (2273, 2285),\n",
       " (2348, 2360),\n",
       " (2377, 2389),\n",
       " (2397, 2409),\n",
       " (2428, 2440),\n",
       " (2474, 2485),\n",
       " (2498, 2510),\n",
       " (2543, 2554),\n",
       " (2579, 2591),\n",
       " (2606, 2618),\n",
       " (2619, 2630),\n",
       " (2645, 2657),\n",
       " (2664, 2673),\n",
       " (2678, 2690),\n",
       " (2705, 2717),\n",
       " (2718, 2730),\n",
       " (2732, 2744),\n",
       " (2759, 2771),\n",
       " (2772, 2784),\n",
       " (2812, 2824),\n",
       " (2840, 2852),\n",
       " (2887, 2899),\n",
       " (2900, 2911),\n",
       " (2914, 2926),\n",
       " (2927, 2939),\n",
       " (2939, 2951),\n",
       " (2984, 2994),\n",
       " (3008, 3020),\n",
       " (3058, 3069),\n",
       " (3087, 3099),\n",
       " (3123, 3135)]"
      ]
     },
     "execution_count": 97,
     "metadata": {},
     "output_type": "execute_result"
    }
   ],
   "source": [
    "Total = 0\n",
    "isStop = False\n",
    "currentIndex = 0\n",
    "for (startIndex, endIndex), values in zip(mulsIndex, muls):\n",
    "    currentStopStartIndex, currentStopEndIndex = donts.pop(0)\n",
    "    currentGoStartIndex, currentGoEndIndex = dos.pop(0)\n",
    "    if not isStop:\n",
    "        if startIndex > currentStopStartIndex and startIndex < currentGoStartIndex:\n",
    "        isSTop = True\n",
    "        if len(donts) > 0:\n",
    "            currentStopStartIndex, currentStopEndIndex = donts.pop(0)\n",
    "    elif not isStop:\n",
    "\n",
    "    elif isStop and startIndex < currentGoStartIndex and currentGoStartIndex < currentStopStartIndex:\\\n",
    "        isStop = False\n",
    "        if len(dos) > 0:\n",
    "            currentGoStartIndex, currentGoEndIndex = dos.pop(0)\n",
    "        \n",
    "\n",
    "\n",
    "\n",
    "    if not isStop:\n",
    "        Total += multiplication(thing)\n",
    "        currentIndex = "
   ]
  },
  {
   "cell_type": "code",
   "execution_count": null,
   "metadata": {},
   "outputs": [],
   "source": [
    "def dosAndDonts(dos, donts, muls):\n",
    "    index = 0\n",
    "    stopIndex = "
   ]
  }
 ],
 "metadata": {
  "kernelspec": {
   "display_name": "base",
   "language": "python",
   "name": "python3"
  },
  "language_info": {
   "codemirror_mode": {
    "name": "ipython",
    "version": 3
   },
   "file_extension": ".py",
   "mimetype": "text/x-python",
   "name": "python",
   "nbconvert_exporter": "python",
   "pygments_lexer": "ipython3",
   "version": "3.10.9"
  }
 },
 "nbformat": 4,
 "nbformat_minor": 2
}
