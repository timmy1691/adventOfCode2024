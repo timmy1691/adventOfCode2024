{
 "cells": [
  {
   "cell_type": "code",
   "execution_count": 23,
   "metadata": {},
   "outputs": [],
   "source": [
    "def correctOrdering(Order, rules):\n",
    "\n",
    "    midIndex = len(Order)//2\n",
    "    for i in range(len(Order)):\n",
    "        value1 = Order[i]\n",
    "        for j in range(i+1, len(Order)):\n",
    "            value2 = Order[j]\n",
    "            if value1 in rules[value2]:\n",
    "                return False\n",
    "    else:\n",
    "        midValue = Order[midIndex]\n",
    "        return int(midValue)"
   ]
  },
  {
   "cell_type": "code",
   "execution_count": 24,
   "metadata": {},
   "outputs": [
    {
     "name": "stdout",
     "output_type": "stream",
     "text": [
      "6267\n"
     ]
    }
   ],
   "source": [
    "part1 = True\n",
    "ordering = {}\n",
    "totalCorrectSum = 0\n",
    "with open(\"inputs.txt\", \"r\") as f:\n",
    "    for line in f:\n",
    "        if len(line.strip())==0:\n",
    "            part1 = False\n",
    "            continue\n",
    "\n",
    "        if part1:\n",
    "            tempLine = line.strip()\n",
    "            vals = tempLine.split(\"|\")\n",
    "            before = vals[0]\n",
    "            after = vals[1]\n",
    "            if before not in ordering:\n",
    "                ordering[before] = set()\n",
    "                ordering[before].add(after)\n",
    "            else:\n",
    "                ordering[before].add(after)\n",
    "        else:\n",
    "            tempOrder = line.strip().split(\",\")\n",
    "            totalCorrectSum += correctOrdering(tempOrder, ordering)\n",
    "        # if part1:\n",
    "\n",
    "print(totalCorrectSum)"
   ]
  },
  {
   "cell_type": "code",
   "execution_count": 26,
   "metadata": {},
   "outputs": [
    {
     "name": "stdout",
     "output_type": "stream",
     "text": [
      "11248\n",
      "4981\n"
     ]
    }
   ],
   "source": [
    "part1 = True\n",
    "ordering = {}\n",
    "totalSum = 0\n",
    "with open(\"inputs.txt\", \"r\") as f:\n",
    "    for line in f:\n",
    "        if len(line.strip())==0:\n",
    "            part1 = False\n",
    "            continue\n",
    "\n",
    "        if part1:\n",
    "            tempLine = line.strip()\n",
    "            vals = tempLine.split(\"|\")\n",
    "            before = vals[0]\n",
    "            after = vals[1]\n",
    "            if before not in ordering:\n",
    "                ordering[before] = set()\n",
    "                ordering[before].add(after)\n",
    "            else:\n",
    "                ordering[before].add(after)\n",
    "        else:\n",
    "            tempOrder = line.strip().split(\",\")\n",
    "            totalSum += int(sorted(map(int, tempOrder))[len(tempOrder)//2])\n",
    "        # if part1:\n",
    "\n",
    "print(totalSum)\n",
    "print(totalSum - totalCorrectSum)"
   ]
  },
  {
   "cell_type": "code",
   "execution_count": null,
   "metadata": {},
   "outputs": [],
   "source": [
    "def reOrdering(order, rules):\n",
    "    "
   ]
  }
 ],
 "metadata": {
  "kernelspec": {
   "display_name": "base",
   "language": "python",
   "name": "python3"
  },
  "language_info": {
   "codemirror_mode": {
    "name": "ipython",
    "version": 3
   },
   "file_extension": ".py",
   "mimetype": "text/x-python",
   "name": "python",
   "nbconvert_exporter": "python",
   "pygments_lexer": "ipython3",
   "version": "3.10.9"
  }
 },
 "nbformat": 4,
 "nbformat_minor": 2
}
