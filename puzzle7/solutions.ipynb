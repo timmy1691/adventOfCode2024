{
 "cells": [
  {
   "cell_type": "code",
   "execution_count": 41,
   "metadata": {},
   "outputs": [],
   "source": [
    "from itertools import product"
   ]
  },
  {
   "cell_type": "code",
   "execution_count": 55,
   "metadata": {},
   "outputs": [
    {
     "name": "stdout",
     "output_type": "stream",
     "text": [
      "1038838357795\n"
     ]
    }
   ],
   "source": [
    "totalSum = 0\n",
    "with open(\"input.txt\", \"r\") as f:\n",
    "    for l in f:\n",
    "        numbers = l.strip().split(\":\")\n",
    "        lhs = int(numbers[0])\n",
    "        rhs = list(map(int, numbers[1].strip().split()))\n",
    "        totalSum += calculate(lhs, rhs)\n",
    "print(totalSum)"
   ]
  },
  {
   "cell_type": "markdown",
   "metadata": {},
   "source": [
    "#### function part 1"
   ]
  },
  {
   "cell_type": "code",
   "execution_count": 81,
   "metadata": {},
   "outputs": [],
   "source": [
    "def calculate(lhs, rhs):\n",
    "    operators = \"01\"\n",
    "    numOperators  = len(rhs) - 1\n",
    "    for thing in product(operators, repeat=numOperators):\n",
    "        currentValue = rhs[0]\n",
    "        for i in range(numOperators):\n",
    "            if thing[i] == \"0\":\n",
    "                currentValue += rhs[i+1]\n",
    "            else:\n",
    "                currentValue*= rhs[i+1]\n",
    "            \n",
    "            if currentValue > lhs:\n",
    "                break\n",
    "        if currentValue == lhs:\n",
    "            return lhs\n",
    "    return 0"
   ]
  },
  {
   "cell_type": "markdown",
   "metadata": {},
   "source": [
    "#### function part 2"
   ]
  },
  {
   "cell_type": "code",
   "execution_count": 66,
   "metadata": {},
   "outputs": [],
   "source": [
    "from math import log10, floor, ceil"
   ]
  },
  {
   "cell_type": "code",
   "execution_count": 83,
   "metadata": {},
   "outputs": [
    {
     "name": "stdout",
     "output_type": "stream",
     "text": [
      "254136560217241\n"
     ]
    }
   ],
   "source": [
    "totalSum = 0\n",
    "with open(\"input.txt\", \"r\") as f:\n",
    "    for l in f:\n",
    "        numbers = l.strip().split(\":\")\n",
    "        lhs = int(numbers[0])\n",
    "        rhs = list(map(int, numbers[1].strip().split()))\n",
    "        totalSum += calculate2(lhs, rhs)\n",
    "print(totalSum)"
   ]
  },
  {
   "cell_type": "code",
   "execution_count": null,
   "metadata": {},
   "outputs": [],
   "source": [
    "def calculate2(lhs, rhs):\n",
    "    operators = \"012\"\n",
    "    numOperators  = len(rhs) - 1\n",
    "    for thing in product(operators, repeat=numOperators):\n",
    "        currentValue = rhs[0]\n",
    "        for i in range(numOperators):\n",
    "            if thing[i] == \"0\":\n",
    "                currentValue += rhs[i+1]\n",
    "            elif thing[i] == \"1\":\n",
    "                currentValue*= rhs[i+1]\n",
    "            elif thing[i] == \"2\":\n",
    "                currentValue = concatenateNumbers(currentValue, rhs[i+1])\n",
    "            if currentValue > lhs:\n",
    "                break\n",
    "        if currentValue == lhs:\n",
    "            return lhs\n",
    "    return 0"
   ]
  },
  {
   "cell_type": "code",
   "execution_count": 78,
   "metadata": {},
   "outputs": [],
   "source": [
    "def concatenateNumbers(leftNum, rightNum):\n",
    "    numDigits = floor(log10(rightNum) + 1)\n",
    "    return (leftNum * (10**numDigits)) + rightNum"
   ]
  }
 ],
 "metadata": {
  "kernelspec": {
   "display_name": "base",
   "language": "python",
   "name": "python3"
  },
  "language_info": {
   "codemirror_mode": {
    "name": "ipython",
    "version": 3
   },
   "file_extension": ".py",
   "mimetype": "text/x-python",
   "name": "python",
   "nbconvert_exporter": "python",
   "pygments_lexer": "ipython3",
   "version": "3.10.9"
  }
 },
 "nbformat": 4,
 "nbformat_minor": 2
}
