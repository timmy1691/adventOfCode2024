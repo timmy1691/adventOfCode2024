{
 "cells": [
  {
   "cell_type": "code",
   "execution_count": 1,
   "metadata": {},
   "outputs": [],
   "source": [
    "import pandas as pd\n",
    "import numpy as np\n"
   ]
  },
  {
   "cell_type": "code",
   "execution_count": 124,
   "metadata": {},
   "outputs": [],
   "source": [
    "numSafe = 0\n",
    "tetsing = 10\n",
    "index = 0\n",
    "with open(\"inputs.txt\", \"r\") as f:\n",
    "    for line in f:\n",
    "        test = list(map(int, line.strip().split()))\n",
    "        numSafe += performTest2(test)\n",
    "        index += 1\n",
    "        # print(line, performTest2(test))\n",
    "        \n",
    "        # if index == tetsing:\n",
    "        #     break"
   ]
  },
  {
   "cell_type": "code",
   "execution_count": 125,
   "metadata": {},
   "outputs": [
    {
     "data": {
      "text/plain": [
       "520"
      ]
     },
     "execution_count": 125,
     "metadata": {},
     "output_type": "execute_result"
    }
   ],
   "source": [
    "numSafe"
   ]
  },
  {
   "cell_type": "code",
   "execution_count": 9,
   "metadata": {},
   "outputs": [
    {
     "data": {
      "text/plain": [
       "[8, 11, 14, 16, 15]"
      ]
     },
     "execution_count": 9,
     "metadata": {},
     "output_type": "execute_result"
    }
   ],
   "source": [
    "test"
   ]
  },
  {
   "cell_type": "code",
   "execution_count": 32,
   "metadata": {},
   "outputs": [
    {
     "data": {
      "text/plain": [
       "True"
      ]
     },
     "execution_count": 32,
     "metadata": {},
     "output_type": "execute_result"
    }
   ],
   "source": [
    "performTest(test)"
   ]
  },
  {
   "cell_type": "code",
   "execution_count": 122,
   "metadata": {},
   "outputs": [],
   "source": [
    "def performTest(values):\n",
    "    # print(values)\n",
    "    Increasing = None\n",
    "    isIncreasing = None\n",
    "    isDecreasing = None\n",
    "    l = len(values)\n",
    "\n",
    "    if Increasing is None:\n",
    "        if values[0] < values[l-1] or values[0] < values[l-2]:\n",
    "            isIncreasing = True\n",
    "            maxIncrease = max(values[l-1]-values[0], values[l-2]-values[0])\n",
    "        if values[l-1] < values[0] or values[l-1] < values[1] :\n",
    "            isDecreasing = True\n",
    "            maxDecrease = max(values[0]- values[l-1], values[1] - values[l-1])\n",
    "\n",
    "        if isDecreasing and isIncreasing:\n",
    "            if maxIncrease < maxDecrease:\n",
    "                Increasing = False\n",
    "            else:\n",
    "                Increasing = True\n",
    "        elif isDecreasing:\n",
    "            Increasing = False\n",
    "        elif isIncreasing:\n",
    "            Increasing = True\n",
    "    \n",
    "    for i in range(len(values)-1):\n",
    "        value1 = values[i]\n",
    "        value2 = values[i+1]\n",
    "\n",
    "        if Increasing:\n",
    "            if value2 < value1:\n",
    "                return False\n",
    "            \n",
    "            if (value2 - value1 > 3) or (value2 == value1):\n",
    "                return False\n",
    "        else:\n",
    "            if (value2 > value1):\n",
    "                return False\n",
    "            \n",
    "            if (value1 - value2 > 3) or (value1 == value2):\n",
    "                return False\n",
    "    return True"
   ]
  },
  {
   "cell_type": "code",
   "execution_count": 120,
   "metadata": {},
   "outputs": [],
   "source": [
    "def performTest2(values):\n",
    "    # Increasing = None\n",
    "    # l = len(values)\n",
    "\n",
    "    # if Increasing is None:\n",
    "    #     if values[0] < values[l-1] or values[0] < values[l-2]:\n",
    "    #         Increasing = True\n",
    "    #     elif values[0] <values[l-1] or values[1] < values[l-1] :\n",
    "    #         Increasing = False\n",
    "        \n",
    "    # print(Increasing)\n",
    "    Increasing = None\n",
    "    isIncreasing = None\n",
    "    isDecreasing = None\n",
    "    l = len(values)\n",
    "\n",
    "    if Increasing is None:\n",
    "        if values[0] < values[l-1] or values[0] < values[l-2]:\n",
    "            isIncreasing = True\n",
    "            maxIncrease = max(values[l-1]-values[0], values[l-2]-values[0])\n",
    "        if values[l-1] < values[0] or values[l-1] < values[1] :\n",
    "            isDecreasing = True\n",
    "            maxDecrease = max(values[0]- values[l-1], values[1] - values[l-1])\n",
    "\n",
    "        \n",
    "        if isDecreasing and isIncreasing:\n",
    "            if maxIncrease < maxDecrease:\n",
    "                Increasing = False\n",
    "            else:\n",
    "                Increasing = True\n",
    "        elif isDecreasing:\n",
    "            Increasing = False\n",
    "        elif isIncreasing:\n",
    "            Increasing = True\n",
    "\n",
    "    for i in range(len(values)-1):\n",
    "        value1 = values[i]\n",
    "        value2 = values[i+1]\n",
    "\n",
    "        if Increasing:\n",
    "            if value2 < value1:\n",
    "                tempValues1 = []\n",
    "                tempValues2 = []\n",
    "                for j in range(len(values)):\n",
    "                    if j != i+1:\n",
    "                        tempValues2.append(values[j])\n",
    "                    if j != i:\n",
    "                        tempValues1.append(values[j])\n",
    "                # print(tempValues1)\n",
    "                # print(tempValues2)\n",
    "                return performTest(tempValues1) or performTest(tempValues2)\n",
    "            \n",
    "            if value2 - value1 > 3 or value2 == value1:\n",
    "                tempValues1 = []\n",
    "                tempValues2 = []\n",
    "                for j in range(len(values)):\n",
    "                    if j != i+1:\n",
    "                        tempValues2.append(values[j])\n",
    "                    if j != i:\n",
    "                        tempValues1.append(values[j])\n",
    "                # print(tempValues1)\n",
    "                # print(tempValues2)                \n",
    "                return performTest(tempValues1) or performTest(tempValues2)\n",
    "        else:\n",
    "            if value2>value1:\n",
    "                tempValues1 = []\n",
    "                tempValues2 = []\n",
    "                for j in range(len(values)):\n",
    "                    if j != i+1:\n",
    "                        tempValues2.append(values[j])\n",
    "                    if j != i:\n",
    "                        tempValues1.append(values[j])\n",
    "                # print(tempValues1)\n",
    "                # print(tempValues2)                \n",
    "                return performTest(tempValues1) or performTest(tempValues2)\n",
    "            \n",
    "            if value1 - value2 > 3 or value1 == value2:\n",
    "                tempValues1 = []\n",
    "                tempValues2 = []\n",
    "                for j in range(len(values)):\n",
    "                    if j != i+1:\n",
    "                        tempValues2.append(values[j])\n",
    "                    if j != i:\n",
    "                        tempValues1.append(values[j])\n",
    "                # print(tempValues1)\n",
    "                # print(tempValues2)               \n",
    "                return performTest(tempValues1) or performTest(tempValues2)\n",
    "    return True"
   ]
  },
  {
   "cell_type": "code",
   "execution_count": null,
   "metadata": {},
   "outputs": [],
   "source": []
  }
 ],
 "metadata": {
  "kernelspec": {
   "display_name": "base",
   "language": "python",
   "name": "python3"
  },
  "language_info": {
   "codemirror_mode": {
    "name": "ipython",
    "version": 3
   },
   "file_extension": ".py",
   "mimetype": "text/x-python",
   "name": "python",
   "nbconvert_exporter": "python",
   "pygments_lexer": "ipython3",
   "version": "3.10.9"
  }
 },
 "nbformat": 4,
 "nbformat_minor": 2
}
